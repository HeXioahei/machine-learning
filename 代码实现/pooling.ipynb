{
 "cells": [
  {
   "cell_type": "code",
   "execution_count": null,
   "id": "c10afa9e-24d9-45b9-8a74-1d1ae0135acf",
   "metadata": {},
   "outputs": [],
   "source": []
  },
  {
   "cell_type": "markdown",
   "id": "76c8d391-8147-4f72-9dd2-a7213f69c501",
   "metadata": {
    "editable": true,
    "slideshow": {
     "slide_type": ""
    },
    "tags": []
   },
   "source": [
    "### 实现池化层的正向传播"
   ]
  },
  {
   "cell_type": "code",
   "execution_count": 1,
   "id": "7c8780f4-9700-492c-9274-07b9649233a9",
   "metadata": {
    "editable": true,
    "slideshow": {
     "slide_type": ""
    },
    "tags": []
   },
   "outputs": [],
   "source": [
    "import torch\n",
    "from torch import nn\n",
    "from d2l import torch as d2l\n",
    "\n",
    "def pool2d(X, pool_size, mode='max'):  \n",
    "    p_h, p_w = pool_size  # 池的宽高，相当于卷积层里卷积核的宽高。\n",
    "    Y = torch.zeros((X.shape[0] - p_h + 1, X.shape[1] - p_w + 1))  # 池化后的矩阵大小\n",
    "    for i in range(Y.shape[0]):   # 纵向遍历\n",
    "        for j in range(Y.shape[1]):    # 横向遍历\n",
    "            if mode == 'max':\n",
    "                Y[i, j] = X[i:i + p_h, j:j + p_w].max()\n",
    "            elif mode == 'avg':\n",
    "                Y[i, j] = X[i:i + p_h, j:j + p_w].mean()  # 注意：mean()要求数据类型为 Long\n",
    "    return Y\n",
    "\n"
   ]
  },
  {
   "cell_type": "markdown",
   "id": "330fc656-47c5-4321-941a-e09dc23c0482",
   "metadata": {},
   "source": [
    "### 验证二维最大池化层和平均池化层的输出"
   ]
  },
  {
   "cell_type": "code",
   "execution_count": 2,
   "id": "6af0dec9-2865-457d-98f1-50256957d221",
   "metadata": {},
   "outputs": [
    {
     "name": "stdout",
     "output_type": "stream",
     "text": [
      "tensor([[0., 1., 2.],\n",
      "        [3., 4., 5.],\n",
      "        [6., 7., 8.]])\n",
      "tensor([[4., 5.],\n",
      "        [7., 8.]])\n",
      "tensor([[2., 3.],\n",
      "        [5., 6.]])\n"
     ]
    }
   ],
   "source": [
    "X = torch.tensor([[0.0,1.0,2.0],[3.0,4.0,5.0],[6.0,7.0,8.0]])\n",
    "print(X)\n",
    "print(pool2d(X, (2,2)))\n",
    "print(pool2d(X, (2,2),'avg'))"
   ]
  },
  {
   "cell_type": "markdown",
   "id": "93be0e3a-bded-4a0c-bb2e-2ad86aa6d88e",
   "metadata": {},
   "source": [
    "### 深度学习框架中，默认将步幅和池化层窗口的大小设置为一样大的，同时填充为零，也就意味着移动的时候不会重叠"
   ]
  },
  {
   "cell_type": "code",
   "execution_count": 3,
   "id": "981c7eb7-5e56-400f-ac64-d27c8e7da0d7",
   "metadata": {},
   "outputs": [
    {
     "name": "stdout",
     "output_type": "stream",
     "text": [
      "tensor([[[[ 0.,  1.,  2.,  3.],\n",
      "          [ 4.,  5.,  6.,  7.],\n",
      "          [ 8.,  9., 10., 11.],\n",
      "          [12., 13., 14., 15.]]]])\n",
      "tensor([[[[10.]]]])\n"
     ]
    }
   ],
   "source": [
    "X = torch.arange(16, dtype=torch.float32).reshape((1,1,4,4)) # 批量数，通道数，高，宽\n",
    "print(X)\n",
    "pool2d = nn.MaxPool2d(3) # 这里的3就是池化窗口大小，也就是步幅大小。所以，窗口移动不了。\n",
    "print(pool2d(X))"
   ]
  },
  {
   "cell_type": "markdown",
   "id": "e0c3acca-7a89-4678-a7dc-a7ea3cbfe380",
   "metadata": {},
   "source": [
    "### 我们也可以手动设置步幅和填充"
   ]
  },
  {
   "cell_type": "code",
   "execution_count": 4,
   "id": "1647ebb9-61e5-4134-9842-5ea8bec0c16f",
   "metadata": {},
   "outputs": [
    {
     "name": "stdout",
     "output_type": "stream",
     "text": [
      "tensor([[[[ 0.,  1.,  2.,  3.],\n",
      "          [ 4.,  5.,  6.,  7.],\n",
      "          [ 8.,  9., 10., 11.],\n",
      "          [12., 13., 14., 15.]]]])\n",
      "tensor([[[[ 5.,  7.],\n",
      "          [13., 15.]]]])\n"
     ]
    }
   ],
   "source": [
    "print(X)\n",
    "pool2d = nn.MaxPool2d(3, padding=1, stride=2) # 这里的3仍然是池化窗口大小，但不是步长大小了。\n",
    "print(pool2d(X))"
   ]
  },
  {
   "cell_type": "markdown",
   "id": "f497a876-e03e-4a22-8e4e-8853ba1b9b01",
   "metadata": {},
   "source": [
    "### 我们也可以设定任意大小的矩阵，不一定是正方形。并且横向p和s与纵向p和s也可以随意设置。"
   ]
  },
  {
   "cell_type": "code",
   "execution_count": 5,
   "id": "ffe83750-7604-452a-bd5e-239081f99ab4",
   "metadata": {},
   "outputs": [
    {
     "name": "stdout",
     "output_type": "stream",
     "text": [
      "tensor([[[[ 0.,  1.,  2.,  3.,  4.,  5.,  6.,  7.],\n",
      "          [ 8.,  9., 10., 11., 12., 13., 14., 15.],\n",
      "          [16., 17., 18., 19., 20., 21., 22., 23.],\n",
      "          [24., 25., 26., 27., 28., 29., 30., 31.],\n",
      "          [32., 33., 34., 35., 36., 37., 38., 39.],\n",
      "          [40., 41., 42., 43., 44., 45., 46., 47.],\n",
      "          [48., 49., 50., 51., 52., 53., 54., 55.],\n",
      "          [56., 57., 58., 59., 60., 61., 62., 63.]]]])\n",
      "tensor([[[[17., 20., 23.],\n",
      "          [33., 36., 39.],\n",
      "          [49., 52., 55.],\n",
      "          [57., 60., 63.]]]])\n"
     ]
    }
   ],
   "source": [
    "X = torch.arange(64, dtype=torch.float32).reshape((1,1,8,8)) # 批量数，通道数，高，宽\n",
    "print(X)\n",
    "pool2d = nn.MaxPool2d((5,3), padding=(2,1), stride=(2,3)) # 这里的3仍然是池化窗口大小，但不是步长大小了。\n",
    "print(pool2d(X))"
   ]
  },
  {
   "cell_type": "markdown",
   "id": "6e45b7c7-fdb1-4cdd-91b9-eca48c6d476f",
   "metadata": {},
   "source": [
    "### 在多通道进行计算"
   ]
  },
  {
   "cell_type": "code",
   "execution_count": 16,
   "id": "12a357c5-9d2a-4dee-8d75-a03ce0e08fc8",
   "metadata": {},
   "outputs": [
    {
     "name": "stdout",
     "output_type": "stream",
     "text": [
      "tensor([[[[ 0.,  1.,  2.,  3.],\n",
      "          [ 4.,  5.,  6.,  7.],\n",
      "          [ 8.,  9., 10., 11.],\n",
      "          [12., 13., 14., 15.]],\n",
      "\n",
      "         [[ 1.,  2.,  3.,  4.],\n",
      "          [ 5.,  6.,  7.,  8.],\n",
      "          [ 9., 10., 11., 12.],\n",
      "          [13., 14., 15., 16.]]]])\n",
      "tensor([[[[ 5.,  7.],\n",
      "          [13., 15.]],\n",
      "\n",
      "         [[ 6.,  8.],\n",
      "          [14., 16.]]]])\n"
     ]
    }
   ],
   "source": [
    "X = torch.arange(16, dtype=torch.float32).reshape((1,1,4,4))\n",
    "X = torch.cat((X,X+1), 1)\n",
    "# cat()是将两个张量进行拼接的函数，(X,X+1)代表要拼接的两个矩阵，0代表竖着拼接，如果是1则代表横着拼接。\n",
    "print(X)\n",
    "pool2d = nn.MaxPool2d(2)\n",
    "print(pool2d(X))"
   ]
  }
 ],
 "metadata": {
  "kernelspec": {
   "display_name": "Python 3 (ipykernel)",
   "language": "python",
   "name": "python3"
  },
  "language_info": {
   "codemirror_mode": {
    "name": "ipython",
    "version": 3
   },
   "file_extension": ".py",
   "mimetype": "text/x-python",
   "name": "python",
   "nbconvert_exporter": "python",
   "pygments_lexer": "ipython3",
   "version": "3.9.20"
  }
 },
 "nbformat": 4,
 "nbformat_minor": 5
}
