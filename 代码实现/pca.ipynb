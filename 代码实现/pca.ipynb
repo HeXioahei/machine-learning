{
 "cells": [
  {
   "cell_type": "markdown",
   "id": "5922138d-33a0-4f34-8d12-08329b4d5283",
   "metadata": {},
   "source": [
    "`sklearn.decomposition.PCA(n_components=None, copy=True, whiten=False, svd_solver='auto')`\n",
    "* `n_components=`\n",
    "\t* 2：返回前2个主成分\n",
    "\t* 0.98：返回满足主成分差累积贡献率达到98%的主成分\n",
    "\t* None：返回所有主成分\n",
    "\t* 'mle'：将自动选取主成分个数n，使得满足所要求的方差百分比\n",
    "* `copy`：是否把原本的数据复制一份\n",
    "* `whiten`：白化，即对PCA之后的数据进行标准化处理\n",
    "* `svd_solver`：奇异值分解SVD的方法，除了'auto'，还有'full'、'arpack‘、'randomized'三种\n",
    "\n",
    "类的属性\n",
    "* `components_`：返回主成分系数矩阵\n",
    "* `explained_variance_`：降维后的主成分的方差值\n",
    "* `explained_variance_ratio_`：降维后的主成分的方差值占总方差值得比例（主成分方差贡献率）\n",
    "\n",
    "类的方法\n",
    "* `fit_transform()`：将模型与X进行训练，并对X进行降维处理，返回的是降维后的数据\n"
   ]
  },
  {
   "cell_type": "code",
   "execution_count": 1,
   "id": "06431665-8f26-4b16-93f4-90d1ba9e38f2",
   "metadata": {},
   "outputs": [
    {
     "name": "stdout",
     "output_type": "stream",
     "text": [
      "标准化前的数据集： [[5.1 3.5 1.4 0.2]\n",
      " [4.9 3.  1.4 0.2]\n",
      " [4.7 3.2 1.3 0.2]\n",
      " [4.6 3.1 1.5 0.2]\n",
      " [5.  3.6 1.4 0.2]]\n",
      "标准化后且PCA前的数据集： [[-0.90068117  1.01900435 -1.34022653 -1.3154443 ]\n",
      " [-1.14301691 -0.13197948 -1.34022653 -1.3154443 ]\n",
      " [-1.38535265  0.32841405 -1.39706395 -1.3154443 ]\n",
      " [-1.50652052  0.09821729 -1.2833891  -1.3154443 ]\n",
      " [-1.02184904  1.24920112 -1.34022653 -1.3154443 ]]\n",
      "PCA后的数据集： [[-2.26470281  0.4800266 ]\n",
      " [-2.08096115 -0.67413356]\n",
      " [-2.36422905 -0.34190802]\n",
      " [-2.29938422 -0.59739451]\n",
      " [-2.38984217  0.64683538]]\n",
      "标准化前分类准确率： 0.9733333333333334\n",
      "标准化后且PCA前分类准确率： 0.9733333333333334\n",
      "PCA后分类准确率： 0.9333333333333333\n"
     ]
    },
    {
     "name": "stderr",
     "output_type": "stream",
     "text": [
      "D:\\MyProgramFiles\\anaconda3\\envs\\pytorch-GPU\\lib\\site-packages\\sklearn\\linear_model\\_logistic.py:469: ConvergenceWarning: lbfgs failed to converge (status=1):\n",
      "STOP: TOTAL NO. of ITERATIONS REACHED LIMIT.\n",
      "\n",
      "Increase the number of iterations (max_iter) or scale the data as shown in:\n",
      "    https://scikit-learn.org/stable/modules/preprocessing.html\n",
      "Please also refer to the documentation for alternative solver options:\n",
      "    https://scikit-learn.org/stable/modules/linear_model.html#logistic-regression\n",
      "  n_iter_i = _check_optimize_result(\n"
     ]
    }
   ],
   "source": [
    "from sklearn.decomposition import PCA\n",
    "from sklearn import preprocessing as pre\n",
    "from sklearn.datasets import load_iris\n",
    "\n",
    "iris = load_iris()\n",
    "# 标准化\n",
    "X = pre.scale(iris.data)\n",
    "# 设置 PCA 模型\n",
    "pca = PCA(n_components=2, copy=True)\n",
    "\n",
    "\n",
    "# 将该模型拟合到 X 上\n",
    "# pca.fit(X)  # 这一步计算了主成分和解释方差\n",
    "# print('主成分系数矩阵：', pca.components_)  \n",
    "# # 主成分系数矩阵，表示每个原始特征对每个主成分的贡献程度。\n",
    "# # 每一行代表一个主成分，每一行的四个数据分别 代表四个原始特征对该主成分的影响\n",
    "# print('特征值：', pca.explained_variance_)   # 特征值越大说明该主成分越重要\n",
    "# print('方差解释率：', pca.explained_variance_ratio_)  # 方差解释率就越大\n",
    "# # 方差解释率为该特征值除以总的特征值\n",
    "# # 方差解释率越高，说明解释了更大比例的方差，保留了更多有用的信息\n",
    "\n",
    "X_PCA = pca.fit_transform(X)  # 得到经过 PCA 处理后的数据集\n",
    "print(\"标准化前的数据集：\", iris.data[:5,:])  # 未标准化的数据\n",
    "print(\"标准化后且PCA前的数据集：\", X[:5,:])        # 标准化后PCA前的数据\n",
    "print(\"PCA后的数据集：\", X_PCA[:5,:])  # PCA后的数据\n",
    "# 皆展示前五行\n",
    "\n",
    "from sklearn.linear_model import LogisticRegression\n",
    "\n",
    "# 创建一个逻辑回归模型\n",
    "LR1 = LogisticRegression()\n",
    "LR2 = LogisticRegression()\n",
    "LR3 = LogisticRegression()\n",
    "# 将该模型拟合到 PCA 转换后的数据集 X_PCA 和目标标签上 \n",
    "LR1.fit(iris.data, iris.target)  \n",
    "# 若像上面这样未进行标准化处理直接进行拟合，运行后会有一个警告信息：\n",
    "# `ConvergenceWarning` 表示模型在训练过程中没有收敛\n",
    "# 并提示我们需要进行标准化处理\n",
    "LR2.fit(X, iris.target)\n",
    "LR3.fit(X_PCA, iris.target)\n",
    "\n",
    "# 通过回归拟合效果来观察经过 PCA 处理后是否有利于回归拟合准确率的提升\n",
    "print('标准化前分类准确率：', LR1.score(iris.data, iris.target)) \n",
    "print('标准化后且PCA前分类准确率：', LR2.score(X, iris.target)) \n",
    "print('PCA后分类准确率：', LR3.score(X_PCA, iris.target))  \n"
   ]
  },
  {
   "cell_type": "markdown",
   "id": "233f6bd9-c5bb-484d-97da-bade7a29de01",
   "metadata": {},
   "source": [
    "从最下面三行来看，pca处理后怎么准确率反而变少了？这是当然了，因为降维避免不了会有信息损失，而pca要做的是使得计算量减小并且损失最小，而不是使得没有损失。可以看出，0.97到0.93，准确率下降的并不多，说明确实使得损失最小。"
   ]
  }
 ],
 "metadata": {
  "kernelspec": {
   "display_name": "Python 3 (ipykernel)",
   "language": "python",
   "name": "python3"
  },
  "language_info": {
   "codemirror_mode": {
    "name": "ipython",
    "version": 3
   },
   "file_extension": ".py",
   "mimetype": "text/x-python",
   "name": "python",
   "nbconvert_exporter": "python",
   "pygments_lexer": "ipython3",
   "version": "3.9.20"
  }
 },
 "nbformat": 4,
 "nbformat_minor": 5
}
