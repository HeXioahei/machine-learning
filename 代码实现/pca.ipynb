{
 "cells": [
  {
   "cell_type": "markdown",
   "id": "5922138d-33a0-4f34-8d12-08329b4d5283",
   "metadata": {},
   "source": [
    "`sklearn.decomposition.PCA(n_components=None, copy=True, whiten=False, svd_solver='auto')`\n",
    "* `n_components=`\n",
    "\t* 2：返回前2个主成分\n",
    "\t* 0.98：返回满足主成分差累积贡献率达到98%的主成分\n",
    "\t* None：返回所有主成分\n",
    "\t* 'mle'：将自动选取主成分个数n，使得满足所要求的方差百分比\n",
    "* `copy`：是否把原本的数据复制一份\n",
    "* `whiten`：白化，即对PCA之后的数据进行标准化处理\n",
    "* `svd_solver`：奇异值分解SVD的方法，除了'auto'，还有'full'、'arpack‘、'randomized'三种\n",
    "\n",
    "类的属性\n",
    "* `components_`：返回主成分系数矩阵\n",
    "* `explained_variance_`：降维后的主成分的方差值\n",
    "* `explained_variance_ratio_`：降维后的主成分的方差值占总方差值得比例（主成分方差贡献率）\n",
    "\n",
    "类的方法\n",
    "* `fit_transform()`：将模型与X进行训练，并对X进行降维处理，返回的是降维后的数据\n"
   ]
  },
  {
   "cell_type": "code",
   "execution_count": 34,
   "id": "06431665-8f26-4b16-93f4-90d1ba9e38f2",
   "metadata": {},
   "outputs": [
    {
     "name": "stdout",
     "output_type": "stream",
     "text": [
      "主成分系数矩阵： [[ 0.52106591 -0.26934744  0.5804131   0.56485654]\n",
      " [ 0.37741762  0.92329566  0.02449161  0.06694199]\n",
      " [-0.71956635  0.24438178  0.14212637  0.63427274]\n",
      " [-0.26128628  0.12350962  0.80144925 -0.52359713]]\n",
      "特征值： [2.93808505 0.9201649  0.14774182 0.02085386]\n",
      "方差解释率： [0.72962445 0.22850762 0.03668922 0.00517871]\n",
      "[[-2.26470281  0.4800266  -0.12770602 -0.0241682 ]\n",
      " [-2.08096115 -0.67413356 -0.23460885 -0.10300677]\n",
      " [-2.36422905 -0.34190802  0.04420148 -0.02837705]\n",
      " [-2.29938422 -0.59739451  0.09129011  0.06595556]\n",
      " [-2.38984217  0.64683538  0.0157382   0.03592281]]\n",
      "PCA前分类准确率： 0.7466666666666667\n",
      "PCA后分类准确率： 0.9733333333333334\n"
     ]
    }
   ],
   "source": [
    "from sklearn.decomposition import PCA\n",
    "from sklearn import preprocessing\n",
    "from sklearn.datasets import load_iris\n",
    "\n",
    "iris = load_iris()\n",
    "# 标准化\n",
    "X = preprocessing.scale(iris.data)\n",
    "# 设置 PCA 模型\n",
    "pca = PCA(n_components=4, copy=True)\n",
    "# 将该模型拟合到 X 上\n",
    "pca.fit(X)  # 这一步计算了主成分和解释方差\n",
    "\n",
    "print('主成分系数矩阵：', pca.components_)  \n",
    "# 主成分系数矩阵，表示每个原始特征对每个主成分的贡献程度。\n",
    "# 每一行代表一个主成分，每一行的四个数据分别 代表四个原始特征对该主成分的影响\n",
    "print('特征值：', pca.explained_variance_)   # 特征值越大说明该主成分越重要\n",
    "print('方差解释率：', pca.explained_variance_ratio_)  # 方差解释率就越大\n",
    "# 方差解释率为该特征值除以总的特征值\n",
    "# 方差解释率越高，说明解释了更大比例的方差，保留了更多有用的信息\n",
    "\n",
    "X_PCA = pca.fit_transform(X)  # 得到经过 PCA 处理后的数据集\n",
    "# print(X_PCA)\n",
    "print(X_PCA[:5,:])  # 展示前五行\n",
    "\n",
    "from sklearn.linear_model import LogisticRegression\n",
    "\n",
    "# 创建一个逻辑回归模型\n",
    "LR = LogisticRegression()  \n",
    "# 将该模型拟合到 PCA 转换后的数据集 X_PCA 和目标标签上 \n",
    "LR.fit(X_PCA, iris.target)\n",
    "\n",
    "# 通过回归拟合效果来观察经过 PCA 处理后是否有利于回归拟合准确率的提升\n",
    "print('PCA前分类准确率：', LR.score(X, iris.target)) \n",
    "print('PCA后分类准确率：', LR.score(X_PCA, iris.target))  "
   ]
  }
 ],
 "metadata": {
  "kernelspec": {
   "display_name": "Python 3 (ipykernel)",
   "language": "python",
   "name": "python3"
  },
  "language_info": {
   "codemirror_mode": {
    "name": "ipython",
    "version": 3
   },
   "file_extension": ".py",
   "mimetype": "text/x-python",
   "name": "python",
   "nbconvert_exporter": "python",
   "pygments_lexer": "ipython3",
   "version": "3.12.4"
  }
 },
 "nbformat": 4,
 "nbformat_minor": 5
}
